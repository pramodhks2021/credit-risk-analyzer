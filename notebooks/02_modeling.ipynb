{
 "cells": [
  {
   "cell_type": "markdown",
   "id": "32f58d13",
   "metadata": {},
   "source": [
    "# 02 - Model Training and Evaluation\n",
    "\n",
    "This notebook covers model training using Gradient Boosting."
   ]
  },
  {
   "cell_type": "code",
   "execution_count": 1,
   "id": "7673d41f",
   "metadata": {},
   "outputs": [],
   "source": [
    "import sys\n",
    "import os\n",
    "sys.path.append(os.path.abspath('../src'))\n"
   ]
  },
  {
   "cell_type": "code",
   "execution_count": 7,
   "id": "da1bee5b",
   "metadata": {},
   "outputs": [
    {
     "ename": "ImportError",
     "evalue": "cannot import name 'train_model_xgboost' from 'modeling' (c:\\Users\\pramodh\\Documents\\Projects\\CreditRisk\\credit-risk-analyzer\\src\\modeling.py)",
     "output_type": "error",
     "traceback": [
      "\u001b[1;31m---------------------------------------------------------------------------\u001b[0m",
      "\u001b[1;31mImportError\u001b[0m                               Traceback (most recent call last)",
      "Cell \u001b[1;32mIn[7], line 5\u001b[0m\n\u001b[0;32m      3\u001b[0m \u001b[38;5;28;01mfrom\u001b[39;00m \u001b[38;5;21;01msklearn\u001b[39;00m\u001b[38;5;21;01m.\u001b[39;00m\u001b[38;5;21;01mmetrics\u001b[39;00m \u001b[38;5;28;01mimport\u001b[39;00m roc_auc_score\n\u001b[0;32m      4\u001b[0m \u001b[38;5;28;01mfrom\u001b[39;00m \u001b[38;5;21;01mpreprocessing\u001b[39;00m \u001b[38;5;28;01mimport\u001b[39;00m preprocess_data\n\u001b[1;32m----> 5\u001b[0m \u001b[38;5;28;01mfrom\u001b[39;00m \u001b[38;5;21;01mmodeling\u001b[39;00m \u001b[38;5;28;01mimport\u001b[39;00m train_model, evaluate_model,train_model_xgboost\n",
      "\u001b[1;31mImportError\u001b[0m: cannot import name 'train_model_xgboost' from 'modeling' (c:\\Users\\pramodh\\Documents\\Projects\\CreditRisk\\credit-risk-analyzer\\src\\modeling.py)"
     ]
    }
   ],
   "source": [
    "import pandas as pd\n",
    "from sklearn.model_selection import train_test_split\n",
    "from sklearn.metrics import roc_auc_score\n",
    "from preprocessing import preprocess_data\n",
    "from modeling import train_model, evaluate_model,train_model_xgboost\n"
   ]
  },
  {
   "cell_type": "code",
   "execution_count": null,
   "id": "b209ad23",
   "metadata": {},
   "outputs": [],
   "source": [
    "\n",
    "# Load dataset\n",
    "df = pd.read_csv('../data/raw/application_train.csv')\n",
    "\n",
    "# Drop rows with missing target\n",
    "df = df.dropna(subset=['TARGET'])\n",
    "\n",
    "# Preprocess\n",
    "df = preprocess_data(df)\n",
    "\n",
    "# Train/test split\n",
    "X = df.drop('TARGET', axis=1)\n",
    "y = df['TARGET']\n",
    "X_train, X_test, y_train, y_test = train_test_split(X, y, test_size=0.2, random_state=42)\n"
   ]
  },
  {
   "cell_type": "code",
   "execution_count": 9,
   "id": "2edd799a",
   "metadata": {},
   "outputs": [
    {
     "name": "stdout",
     "output_type": "stream",
     "text": [
      "      Iter       Train Loss   Remaining Time \n",
      "         1           0.5531            3.99m\n",
      "         2           0.5470            3.76m\n",
      "         3           0.5421            3.78m\n",
      "         4           0.5383            3.72m\n",
      "         5           0.5350            3.61m\n",
      "         6           0.5322            3.56m\n",
      "         7           0.5298            3.51m\n",
      "         8           0.5277            3.49m\n",
      "         9           0.5259            3.50m\n",
      "        10           0.5241            3.47m\n",
      "        20           0.5135            3.06m\n",
      "        30           0.5069            2.73m\n",
      "        40           0.5029            2.33m\n",
      "        50           0.4999            1.92m\n",
      "        60           0.4977            1.52m\n",
      "        70           0.4960            1.13m\n",
      "        80           0.4947           44.91s\n",
      "        90           0.4936           22.35s\n",
      "       100           0.4925            0.00s\n",
      "AUC: 0.7519\n"
     ]
    }
   ],
   "source": [
    "\n",
    "# Train model\n",
    "model = train_model(X_train, y_train)\n",
    "\n",
    "# Evaluate\n",
    "auc = evaluate_model(model, X_test, y_test)\n",
    "print(f\"AUC: {auc:.4f}\")\n"
   ]
  },
  {
   "cell_type": "code",
   "execution_count": 10,
   "id": "72c1ed17",
   "metadata": {},
   "outputs": [
    {
     "name": "stdout",
     "output_type": "stream",
     "text": [
      "Model saved to models/credit_risk_model.pkl\n"
     ]
    }
   ],
   "source": [
    "# Save model\n",
    "import joblib\n",
    "joblib.dump(model, '../models/credit_risk_model.pkl')\n",
    "print(\"Model saved to models/credit_risk_model.pkl\")\n"
   ]
  }
 ],
 "metadata": {
  "kernelspec": {
   "display_name": "interviewPrep",
   "language": "python",
   "name": "python3"
  },
  "language_info": {
   "codemirror_mode": {
    "name": "ipython",
    "version": 3
   },
   "file_extension": ".py",
   "mimetype": "text/x-python",
   "name": "python",
   "nbconvert_exporter": "python",
   "pygments_lexer": "ipython3",
   "version": "3.12.3"
  }
 },
 "nbformat": 4,
 "nbformat_minor": 5
}
