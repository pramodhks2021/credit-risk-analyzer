{
 "cells": [
  {
   "cell_type": "markdown",
   "id": "ad686ccb",
   "metadata": {},
   "source": [
    "# Model Training and Evaluation\n",
    "\n",
    "In this notebook, we train a baseline machine learning model to predict credit default.\n",
    "The goal is to build a model that balances performance with interpretability and business relevance.\n"
   ]
  },
  {
   "cell_type": "markdown",
   "id": "32f58d13",
   "metadata": {},
   "source": [
    "# 02 - Model Training and Evaluation\n",
    "\n",
    "This notebook covers model training using Gradient Boosting."
   ]
  },
  {
   "cell_type": "code",
   "execution_count": 1,
   "id": "7673d41f",
   "metadata": {},
   "outputs": [],
   "source": [
    "import sys\n",
    "import os\n",
    "sys.path.append(os.path.abspath('../src'))\n"
   ]
  },
  {
   "cell_type": "markdown",
   "id": "a00b28ad",
   "metadata": {},
   "source": [
    "## Why Gradient Boosting?\n",
    "\n",
    "Gradient Boosting Machines (GBMs) like XGBoost and LightGBM are popular in tabular data tasks.\n",
    "They offer:\n",
    "- Excellent accuracy on structured data\n",
    "- Support for handling missing values and mixed feature types\n",
    "- Flexibility in tuning\n",
    "\n",
    "We’ll start with scikit-learn's `GradientBoostingClassifier` or switch to XGBoost for GPU acceleration.\n"
   ]
  },
  {
   "cell_type": "markdown",
   "id": "58d4b4b4",
   "metadata": {},
   "source": [
    "## Model Evaluation: AUC\n",
    "\n",
    "We use **AUC (Area Under the Curve)** to evaluate how well the model distinguishes between defaulters and non-defaulters.\n",
    "It’s widely accepted in financial modeling due to its ability to evaluate imbalanced datasets.\n"
   ]
  },
  {
   "cell_type": "code",
   "execution_count": 5,
   "id": "da1bee5b",
   "metadata": {},
   "outputs": [],
   "source": [
    "import pandas as pd\n",
    "from sklearn.model_selection import train_test_split\n",
    "from sklearn.metrics import roc_auc_score\n",
    "from preprocessing import preprocess_data\n",
    "from modeling import train_model, evaluate_model,train_model_xgboost\n"
   ]
  },
  {
   "cell_type": "code",
   "execution_count": null,
   "id": "b209ad23",
   "metadata": {},
   "outputs": [],
   "source": [
    "\n",
    "# Load dataset\n",
    "df = pd.read_csv('../data/raw/application_train.csv')\n",
    "\n",
    "# Drop rows with missing target\n",
    "df = df.dropna(subset=['TARGET'])\n",
    "\n",
    "# Preprocess\n",
    "df = preprocess_data(df)\n",
    "\n",
    "# Train/test split\n",
    "X = df.drop('TARGET', axis=1)\n",
    "y = df['TARGET']\n",
    "X_train, X_test, y_train, y_test = train_test_split(X, y, test_size=0.2, random_state=42)\n"
   ]
  },
  {
   "cell_type": "code",
   "execution_count": 9,
   "id": "2edd799a",
   "metadata": {},
   "outputs": [
    {
     "name": "stdout",
     "output_type": "stream",
     "text": [
      "      Iter       Train Loss   Remaining Time \n",
      "         1           0.5531            3.99m\n",
      "         2           0.5470            3.76m\n",
      "         3           0.5421            3.78m\n",
      "         4           0.5383            3.72m\n",
      "         5           0.5350            3.61m\n",
      "         6           0.5322            3.56m\n",
      "         7           0.5298            3.51m\n",
      "         8           0.5277            3.49m\n",
      "         9           0.5259            3.50m\n",
      "        10           0.5241            3.47m\n",
      "        20           0.5135            3.06m\n",
      "        30           0.5069            2.73m\n",
      "        40           0.5029            2.33m\n",
      "        50           0.4999            1.92m\n",
      "        60           0.4977            1.52m\n",
      "        70           0.4960            1.13m\n",
      "        80           0.4947           44.91s\n",
      "        90           0.4936           22.35s\n",
      "       100           0.4925            0.00s\n",
      "AUC: 0.7519\n"
     ]
    }
   ],
   "source": [
    "\n",
    "# Train model\n",
    "model = train_model(X_train, y_train)\n",
    "\n",
    "# Evaluate\n",
    "auc = evaluate_model(model, X_test, y_test)\n",
    "print(f\"AUC: {auc:.4f}\")\n"
   ]
  },
  {
   "cell_type": "code",
   "execution_count": 10,
   "id": "72c1ed17",
   "metadata": {},
   "outputs": [
    {
     "name": "stdout",
     "output_type": "stream",
     "text": [
      "Model saved to models/credit_risk_model.pkl\n"
     ]
    }
   ],
   "source": [
    "# Save model\n",
    "import joblib\n",
    "joblib.dump(model, '../models/credit_risk_model.pkl')\n",
    "print(\"Model saved to models/credit_risk_model.pkl\")\n"
   ]
  }
 ],
 "metadata": {
  "kernelspec": {
   "display_name": "interviewPrep",
   "language": "python",
   "name": "python3"
  },
  "language_info": {
   "codemirror_mode": {
    "name": "ipython",
    "version": 3
   },
   "file_extension": ".py",
   "mimetype": "text/x-python",
   "name": "python",
   "nbconvert_exporter": "python",
   "pygments_lexer": "ipython3",
   "version": "3.12.3"
  }
 },
 "nbformat": 4,
 "nbformat_minor": 5
}
